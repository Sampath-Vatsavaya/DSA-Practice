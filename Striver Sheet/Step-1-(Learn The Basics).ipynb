{
 "cells": [
  {
   "cell_type": "markdown",
   "id": "4f8b923a",
   "metadata": {},
   "source": [
    "# Lecture 1"
   ]
  },
  {
   "cell_type": "code",
   "execution_count": 6,
   "id": "84a1136d",
   "metadata": {},
   "outputs": [
    {
     "name": "stdout",
     "output_type": "stream",
     "text": [
      "A\n",
      "1\n"
     ]
    }
   ],
   "source": [
    "# User input/ Output\n",
    "# https://www.codingninjas.com/studio/problems/find-character-case_58513?utm_source=striver&utm_medium=website&utm_campaign=a_zcoursetuf\n",
    "# A- 65, Z-90, a-97,z-122\n",
    "x=input()\n",
    "if ord(x)>=65 and ord(x)<=90:\n",
    "    print(1)\n",
    "elif ord(x)>=97 and ord(x)<=122:\n",
    "    print(0)\n",
    "else:\n",
    "    print(-1)"
   ]
  },
  {
   "cell_type": "code",
   "execution_count": 7,
   "id": "ac44d6e2",
   "metadata": {},
   "outputs": [],
   "source": [
    "# Data Types\n",
    "#https://www.codingninjas.com/studio/problems/data-type_8357232?utm_source=striver&utm_medium=website&utm_campaign=a_zcoursetuf\n",
    "def dataTypes(type: str):\n",
    "    \n",
    "    if type==\"Integer\":\n",
    "        return 4\n",
    "    if type==\"Long\":\n",
    "        return 8\n",
    "    if type==\"Float\":\n",
    "        return 4\n",
    "    if type==\"Double\":\n",
    "        return 8\n",
    "    if type==\"Character\":\n",
    "        return 1"
   ]
  },
  {
   "cell_type": "code",
   "execution_count": 8,
   "id": "a693dfeb",
   "metadata": {},
   "outputs": [],
   "source": [
    "# If Else Statements\n",
    "# https://www.codingninjas.com/studio/problems/if-else-decision-making_8357235?utm_source=striver&utm_medium=website&utm_campaign=a_zcoursetuf\n",
    "def compareIfElse(a: int, b: int):\n",
    "    # Write your code here\n",
    "    if a>b:\n",
    "        return \"greater\"\n",
    "    elif a==b:\n",
    "        return \"equal\"\n",
    "    else:\n",
    "        return \"smaller\""
   ]
  },
  {
   "cell_type": "code",
   "execution_count": 9,
   "id": "ad5d0208",
   "metadata": {},
   "outputs": [
    {
     "ename": "SyntaxError",
     "evalue": "invalid syntax (Temp/ipykernel_15596/125797364.py, line 3)",
     "output_type": "error",
     "traceback": [
      "\u001b[1;36m  File \u001b[1;32m\"C:\\Users\\vatsa\\AppData\\Local\\Temp/ipykernel_15596/125797364.py\"\u001b[1;36m, line \u001b[1;32m3\u001b[0m\n\u001b[1;33m    match ch:\u001b[0m\n\u001b[1;37m          ^\u001b[0m\n\u001b[1;31mSyntaxError\u001b[0m\u001b[1;31m:\u001b[0m invalid syntax\n"
     ]
    }
   ],
   "source": []
  },
  {
   "cell_type": "code",
   "execution_count": 4,
   "id": "2e81b9f1",
   "metadata": {},
   "outputs": [
    {
     "name": "stdout",
     "output_type": "stream",
     "text": [
      "5\n",
      "5\n"
     ]
    }
   ],
   "source": [
    "# For Loop\n",
    "# https://www.codingninjas.com/studio/problems/nth-fibonacci-number_74156?utm_source=striver&utm_medium=website&utm_campaign=a_zcoursetuf\n",
    "n=int(input())\n",
    "a=1\n",
    "b=1\n",
    "\n",
    "for i in range(3,n+1):\n",
    "    temp=a+b\n",
    "    a=b\n",
    "    b=temp\n",
    "\n",
    "print(b)"
   ]
  },
  {
   "cell_type": "code",
   "execution_count": 3,
   "id": "f82af4f8",
   "metadata": {},
   "outputs": [
    {
     "name": "stdout",
     "output_type": "stream",
     "text": [
      "2313\n",
      "2 7\n"
     ]
    }
   ],
   "source": [
    "# While Statement\n",
    "#https://www.codingninjas.com/studio/problems/sum-of-even-odd_624650?utm_source=striver&utm_medium=website&utm_campaign=a_zcoursetuf\n",
    "n=int(input())\n",
    "es=0\n",
    "os=0\n",
    "while n>0:\n",
    "    x=n%10\n",
    "    if x%2==0:\n",
    "        es+=x\n",
    "    else:\n",
    "        os+=x\n",
    "    n=n//10\n",
    "print(es,os)\n"
   ]
  },
  {
   "cell_type": "markdown",
   "id": "f06fddd3",
   "metadata": {},
   "source": [
    "# Lecture 2"
   ]
  },
  {
   "cell_type": "markdown",
   "id": "9c90b932",
   "metadata": {},
   "source": [
    "# Patterns"
   ]
  },
  {
   "cell_type": "code",
   "execution_count": 6,
   "id": "aafa2898",
   "metadata": {},
   "outputs": [
    {
     "name": "stdout",
     "output_type": "stream",
     "text": [
      "* * * * * \n",
      "* * * * * \n",
      "* * * * * \n",
      "* * * * * \n",
      "* * * * * \n"
     ]
    }
   ],
   "source": [
    "n=5\n",
    "for i in range(n):\n",
    "    for j in range(n):\n",
    "        print('*',end=' ')\n",
    "    print()"
   ]
  },
  {
   "cell_type": "code",
   "execution_count": 8,
   "id": "64f76049",
   "metadata": {},
   "outputs": [
    {
     "name": "stdout",
     "output_type": "stream",
     "text": [
      "* \n",
      "* * \n",
      "* * * \n"
     ]
    }
   ],
   "source": [
    "def nForest(n:int) ->None:\n",
    "    # Write your solution here.\n",
    "    for i in range(n):\n",
    "        for j in range(i+1):\n",
    "            print('*',end=' ')\n",
    "        print()\n",
    "nForest(3)"
   ]
  },
  {
   "cell_type": "code",
   "execution_count": 10,
   "id": "19690372",
   "metadata": {},
   "outputs": [
    {
     "name": "stdout",
     "output_type": "stream",
     "text": [
      "1 \n",
      "1 2 \n",
      "1 2 3 \n",
      "1 2 3 4 \n",
      "1 2 3 4 5 \n"
     ]
    }
   ],
   "source": [
    "def nTriangle(n:int) ->None:\n",
    "    # Write your solution here.\n",
    "    for i in range(n):\n",
    "        for j in range(i+1):\n",
    "            print(j+1,end=' ')\n",
    "        print()\n",
    "nTriangle(5)"
   ]
  },
  {
   "cell_type": "code",
   "execution_count": 12,
   "id": "fed51796",
   "metadata": {},
   "outputs": [
    {
     "name": "stdout",
     "output_type": "stream",
     "text": [
      "1 \n",
      "2 2 \n",
      "3 3 3 \n",
      "4 4 4 4 \n"
     ]
    }
   ],
   "source": [
    "def triangle( n:int) ->None:\n",
    "    # Write your solution here.\n",
    "    for i in range(n):\n",
    "        for j in range(i+1):\n",
    "            print(i+1,end=' ')\n",
    "        print()\n",
    "triangle(4)"
   ]
  },
  {
   "cell_type": "markdown",
   "id": "6db20325",
   "metadata": {},
   "source": [
    "# Lecture 4"
   ]
  },
  {
   "cell_type": "code",
   "execution_count": 16,
   "id": "07b2ba63",
   "metadata": {},
   "outputs": [
    {
     "name": "stdout",
     "output_type": "stream",
     "text": [
      "Number of digits in  12345  is  5\n"
     ]
    }
   ],
   "source": [
    "# Count no of digits - 2 approaches\n",
    "import math\n",
    "def countDigits(n: int) -> int:\n",
    "    # Write your code here\n",
    "    count=0\n",
    "    while n>0:\n",
    "        n=n//10\n",
    "        count+=1\n",
    "    return count\n",
    "\n",
    "def count_digits(n):\n",
    "    digits = math.floor(math.log10(n) + 1)\n",
    "    return digits\n",
    "n = 12345\n",
    "print(\"Number of digits in \", n, \" is \", count_digits(n))\n"
   ]
  },
  {
   "cell_type": "code",
   "execution_count": 19,
   "id": "c325b793",
   "metadata": {},
   "outputs": [
    {
     "name": "stdout",
     "output_type": "stream",
     "text": [
      "321\n"
     ]
    }
   ],
   "source": [
    "# Reverse Digits\n",
    "#https://leetcode.com/problems/reverse-integer/description/\n",
    "N = 123;\n",
    "num = N;\n",
    "reverse = 0;\n",
    "while(N!=0):\n",
    "    digit = N%10;\n",
    "    reverse = reverse*10+digit\n",
    "    N = N//10;\n",
    "print(reverse)"
   ]
  },
  {
   "cell_type": "code",
   "execution_count": 21,
   "id": "02845cdb",
   "metadata": {},
   "outputs": [],
   "source": [
    "# Palindrome\n",
    "#https://leetcode.com/problems/palindrome-number/description/\n",
    "def isPalindrome(self, x: int) -> bool:\n",
    "    y=str(x)\n",
    "    return y==y[::-1]"
   ]
  },
  {
   "cell_type": "code",
   "execution_count": 22,
   "id": "8c984c4f",
   "metadata": {},
   "outputs": [
    {
     "name": "stdout",
     "output_type": "stream",
     "text": [
      "121\n",
      "false\n"
     ]
    }
   ],
   "source": [
    "# Armstrong\n",
    "#https://www.codingninjas.com/studio/problems/check-armstrong_589?utm_source=striver&utm_medium=website&utm_campaign=a_zcoursetuf\n",
    "n=int(input())\n",
    "count=0\n",
    "temp=n\n",
    "while temp>0:\n",
    "    temp=temp//10\n",
    "    count+=1\n",
    "temp=n\n",
    "arm=0\n",
    "while temp>0:\n",
    "    arm+= (temp%10)**count\n",
    "    temp=temp//10\n",
    "if n==arm:\n",
    "    print('true')\n",
    "else:\n",
    "    print('false')"
   ]
  },
  {
   "cell_type": "code",
   "execution_count": 23,
   "id": "4147136e",
   "metadata": {},
   "outputs": [],
   "source": [
    "# Prime\n",
    "n=int(input())\n",
    "flag='YES'\n",
    "for i in range(2,int(n**(1/2))+1):\n",
    "    if n%i==0:\n",
    "        flag='NO'\n",
    "        break\n",
    "if n==1 or n==0:\n",
    "    flag='NO'\n",
    "print(flag)"
   ]
  },
  {
   "cell_type": "code",
   "execution_count": null,
   "id": "8d2476ee",
   "metadata": {},
   "outputs": [],
   "source": []
  }
 ],
 "metadata": {
  "kernelspec": {
   "display_name": "Python 3 (ipykernel)",
   "language": "python",
   "name": "python3"
  },
  "language_info": {
   "codemirror_mode": {
    "name": "ipython",
    "version": 3
   },
   "file_extension": ".py",
   "mimetype": "text/x-python",
   "name": "python",
   "nbconvert_exporter": "python",
   "pygments_lexer": "ipython3",
   "version": "3.9.7"
  }
 },
 "nbformat": 4,
 "nbformat_minor": 5
}
